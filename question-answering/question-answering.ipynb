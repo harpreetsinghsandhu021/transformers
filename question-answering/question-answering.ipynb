{
 "cells": [
  {
   "cell_type": "markdown",
   "id": "43c2b8ad-dbab-4a55-be72-f074ae1b49b6",
   "metadata": {},
   "source": [
    "# Question Answering Transformer"
   ]
  },
  {
   "cell_type": "markdown",
   "id": "549efa3f-9a48-4d43-bb4f-3bbb6a33d113",
   "metadata": {},
   "source": [
    "## Extractive Question Answering \n",
    "Question answering (QA) is a task of natural language processing that aims to automatically answer questions. The goal of *extractive* QA is to identify the portion of the text that contains the answer to a question. For example, when tasked with answering the question 'When will Jane go to Africa?' given the text data 'Jane visits Africa in September', the question answering model will highlight 'September'."
   ]
  },
  {
   "cell_type": "markdown",
   "id": "38a46a46-f0ce-46b9-b74a-e1e3003a61e2",
   "metadata": {},
   "source": [
    "### Data Preprocessing "
   ]
  },
  {
   "cell_type": "code",
   "execution_count": 1,
   "id": "5194eec4-c1ed-4f98-919e-e78066fc7f86",
   "metadata": {},
   "outputs": [],
   "source": [
    "from datasets import load_from_disk"
   ]
  },
  {
   "cell_type": "code",
   "execution_count": 2,
   "id": "f12f169d-ffe9-489b-9538-d10ebdf2d56a",
   "metadata": {},
   "outputs": [],
   "source": [
    "babi_dataset = load_from_disk('data/')"
   ]
  },
  {
   "cell_type": "code",
   "execution_count": 3,
   "id": "5fb40d86-d1c4-4303-b44c-a41ac27bc680",
   "metadata": {
    "scrolled": true
   },
   "outputs": [
    {
     "data": {
      "text/plain": [
       "{'story': {'answer': ['', '', 'kitchen'],\n",
       "  'id': ['1', '2', '3'],\n",
       "  'supporting_ids': [[], [], ['2']],\n",
       "  'text': ['The office is south of the bathroom.',\n",
       "   'The kitchen is north of the bathroom.',\n",
       "   'What is the bathroom south of?'],\n",
       "  'type': [0, 0, 1]}}"
      ]
     },
     "execution_count": 3,
     "metadata": {},
     "output_type": "execute_result"
    }
   ],
   "source": [
    "babi_dataset['train'][12]"
   ]
  },
  {
   "cell_type": "code",
   "execution_count": 4,
   "id": "b657950b-3b03-4f20-b853-4323ad770375",
   "metadata": {
    "scrolled": true
   },
   "outputs": [
    {
     "data": {
      "text/plain": [
       "{'story': {'answer': ['', '', 'bedroom'],\n",
       "  'id': ['1', '2', '3'],\n",
       "  'supporting_ids': [[], [], ['2']],\n",
       "  'text': ['The bedroom is west of the office.',\n",
       "   'The bedroom is east of the hallway.',\n",
       "   'What is east of the hallway?'],\n",
       "  'type': [0, 0, 1]}}"
      ]
     },
     "execution_count": 4,
     "metadata": {},
     "output_type": "execute_result"
    }
   ],
   "source": [
    "babi_dataset['train'][102]"
   ]
  },
  {
   "cell_type": "markdown",
   "id": "f3fee1f4-d55b-4381-a0df-b338d8a9d195",
   "metadata": {},
   "source": [
    "Take a look at the format of the data. For a given story, there are two sentences which serve as the context, and one question. Each of these phrases has an ID. There is also a supporting fact ID which refers to a sentence in the story that helps answer the question. For example, for the question 'What is east of the hallway?', the supporting fact 'The bedroom is east of the hallway' has the ID '2'. There is also the answer, 'bedroom' for the question."
   ]
  },
  {
   "cell_type": "code",
   "execution_count": 5,
   "id": "eabc03d1-ac22-42e9-83a9-8e5842ec68cb",
   "metadata": {},
   "outputs": [
    {
     "name": "stdout",
     "output_type": "stream",
     "text": [
      "[0, 0, 1]\n"
     ]
    }
   ],
   "source": [
    "type_set = set()\n",
    "\n",
    "for story in babi_dataset['train']: \n",
    "    if str(story['story']['type']) not in type_set: \n",
    "        print(story['story']['type'])\n",
    "        type_set.add(str(story['story']['type']))"
   ]
  },
  {
   "cell_type": "code",
   "execution_count": 6,
   "id": "f399fdd7-ed29-4a07-bbc5-e80d8fb735d9",
   "metadata": {},
   "outputs": [
    {
     "data": {
      "text/plain": [
       "{'[0, 0, 1]'}"
      ]
     },
     "execution_count": 6,
     "metadata": {},
     "output_type": "execute_result"
    }
   ],
   "source": [
    "type_set"
   ]
  },
  {
   "cell_type": "markdown",
   "id": "ba63b4cb-3e4a-451e-be2f-fa67180ef439",
   "metadata": {},
   "source": [
    "To make the data easier to work with, you will flatten the dataset to transform it from a dictionary structure to a table structure."
   ]
  },
  {
   "cell_type": "code",
   "execution_count": 7,
   "id": "dda000fb-fff8-45cf-abbd-f84c6db4a80d",
   "metadata": {},
   "outputs": [],
   "source": [
    "flattened_babi = babi_dataset.flatten()"
   ]
  },
  {
   "cell_type": "code",
   "execution_count": 8,
   "id": "8530ef60-b5c1-4e4a-95bf-de0ed0c36fcb",
   "metadata": {},
   "outputs": [
    {
     "name": "stdout",
     "output_type": "stream",
     "text": [
      "DatasetDict({\n",
      "    train: Dataset({\n",
      "        features: ['story'],\n",
      "        num_rows: 1000\n",
      "    })\n",
      "    test: Dataset({\n",
      "        features: ['story'],\n",
      "        num_rows: 1000\n",
      "    })\n",
      "}) \n",
      " \n",
      " DatasetDict({\n",
      "    train: Dataset({\n",
      "        features: ['story.answer', 'story.id', 'story.supporting_ids', 'story.text', 'story.type'],\n",
      "        num_rows: 1000\n",
      "    })\n",
      "    test: Dataset({\n",
      "        features: ['story.answer', 'story.id', 'story.supporting_ids', 'story.text', 'story.type'],\n",
      "        num_rows: 1000\n",
      "    })\n",
      "})\n"
     ]
    }
   ],
   "source": [
    "print(babi_dataset, '\\n \\n', flattened_babi)"
   ]
  },
  {
   "cell_type": "code",
   "execution_count": 9,
   "id": "6bcc28b6-ab47-4d17-acb8-52646aae934e",
   "metadata": {},
   "outputs": [
    {
     "data": {
      "text/plain": [
       "{'story.answer': ['', '', 'office'],\n",
       " 'story.id': ['1', '2', '3'],\n",
       " 'story.supporting_ids': [[], [], ['1']],\n",
       " 'story.text': ['The office is north of the kitchen.',\n",
       "  'The garden is south of the kitchen.',\n",
       "  'What is north of the kitchen?'],\n",
       " 'story.type': [0, 0, 1]}"
      ]
     },
     "execution_count": 9,
     "metadata": {},
     "output_type": "execute_result"
    }
   ],
   "source": [
    "next(iter(flattened_babi['train']))"
   ]
  },
  {
   "cell_type": "markdown",
   "id": "bd060a9b-9988-430c-a7d5-0e36906874b2",
   "metadata": {},
   "source": [
    "Now it is much easier to access the information you need! You can now easily extract the answer, question, and facts from the story, and also join the facts into a single entry under 'sentences'."
   ]
  },
  {
   "cell_type": "code",
   "execution_count": 10,
   "id": "0ee03a83-4969-4981-af8e-4dca72a545cc",
   "metadata": {},
   "outputs": [],
   "source": [
    "def get_question_and_facts(story):\n",
    "    dic = {} \n",
    "    dic['question'] = story['story.text'][2]\n",
    "    dic['sentences'] = ' '.join([story['story.text'][0], story['story.text'][1]])\n",
    "    dic['answer'] = story['story.answer'][2]\n",
    "    return dic"
   ]
  },
  {
   "cell_type": "code",
   "execution_count": 11,
   "id": "d5d0332f-1a79-452c-895b-80ba058ffe64",
   "metadata": {},
   "outputs": [],
   "source": [
    "processed = flattened_babi.map(get_question_and_facts)"
   ]
  },
  {
   "cell_type": "code",
   "execution_count": 12,
   "id": "bb8f16f6-c891-4fda-ba48-4ad9553686c2",
   "metadata": {},
   "outputs": [
    {
     "data": {
      "text/plain": [
       "{'story.answer': ['', '', 'bedroom'],\n",
       " 'story.id': ['1', '2', '3'],\n",
       " 'story.supporting_ids': [[], [], ['2']],\n",
       " 'story.text': ['The garden is north of the office.',\n",
       "  'The bedroom is north of the garden.',\n",
       "  'What is north of the garden?'],\n",
       " 'story.type': [0, 0, 1],\n",
       " 'question': 'What is north of the garden?',\n",
       " 'sentences': 'The garden is north of the office. The bedroom is north of the garden.',\n",
       " 'answer': 'bedroom'}"
      ]
     },
     "execution_count": 12,
     "metadata": {},
     "output_type": "execute_result"
    }
   ],
   "source": [
    "processed['train'][2]"
   ]
  },
  {
   "cell_type": "markdown",
   "id": "1022e15c-8fa0-4d20-a8ed-4eacdf493a84",
   "metadata": {},
   "source": [
    "\n",
    "The goal of extractive QA is to find the part of the text that contains the answer to the question. You will identify the position of the answer using the indexes of the string. For example, if the answer to some question was 'September', you would need to find the start and end string indices of the word 'September' in the context sentence 'Jane visits Africa in September.'\n",
    "\n",
    "Use this next function to get the start and end indices of the answer in each of the stories in your dataset."
   ]
  },
  {
   "cell_type": "code",
   "execution_count": 13,
   "id": "4b7b11ad-d26f-4256-a508-6ab6b81a1f15",
   "metadata": {},
   "outputs": [],
   "source": [
    "def get_start_end_idx(story): \n",
    "    str_idx = story['sentences'].find(story['answer'])\n",
    "    end_idx = str_idx + len(story['answer'])\n",
    "\n",
    "    return {'str_idx': str_idx, 'end_idx': end_idx }"
   ]
  },
  {
   "cell_type": "code",
   "execution_count": 14,
   "id": "cfd197f2-1410-42bb-ad6a-552721ca8646",
   "metadata": {},
   "outputs": [],
   "source": [
    "processed = processed.map(get_start_end_idx)"
   ]
  },
  {
   "cell_type": "code",
   "execution_count": 15,
   "id": "8f13420c-68be-4964-9265-4270cef8d44e",
   "metadata": {},
   "outputs": [
    {
     "data": {
      "text/plain": [
       "{'story.answer': ['', '', 'kitchen'],\n",
       " 'story.id': ['1', '2', '3'],\n",
       " 'story.supporting_ids': [[], [], ['2']],\n",
       " 'story.text': ['The office is south of the bathroom.',\n",
       "  'The kitchen is north of the bathroom.',\n",
       "  'What is the bathroom south of?'],\n",
       " 'story.type': [0, 0, 1],\n",
       " 'question': 'What is the bathroom south of?',\n",
       " 'sentences': 'The office is south of the bathroom. The kitchen is north of the bathroom.',\n",
       " 'answer': 'kitchen',\n",
       " 'str_idx': 41,\n",
       " 'end_idx': 48}"
      ]
     },
     "execution_count": 15,
     "metadata": {},
     "output_type": "execute_result"
    }
   ],
   "source": [
    "processed['train'][12]"
   ]
  },
  {
   "cell_type": "code",
   "execution_count": 16,
   "id": "9977a7f4-050d-495c-acbb-039f3d4c7a0c",
   "metadata": {},
   "outputs": [
    {
     "name": "stdout",
     "output_type": "stream",
     "text": [
      "{'story.answer': ['', '', 'garden'], 'story.id': ['1', '2', '3'], 'story.supporting_ids': [[], [], ['2']], 'story.text': ['The hallway is south of the garden.', 'The garden is south of the bedroom.', 'What is south of the bedroom?'], 'story.type': [0, 0, 1], 'question': 'What is south of the bedroom?', 'sentences': 'The hallway is south of the garden. The garden is south of the bedroom.', 'answer': 'garden', 'str_idx': 28, 'end_idx': 34}\n",
      "answer: garden\n"
     ]
    }
   ],
   "source": [
    "num = 187\n",
    "print(processed['test'][num])\n",
    "start_idx = processed['test'][num]['str_idx']\n",
    "end_idx = processed['test'][num]['end_idx']\n",
    "print('answer:', processed['test'][num]['sentences'][start_idx:end_idx])"
   ]
  },
  {
   "cell_type": "markdown",
   "id": "dd721c0e-3424-474c-8c0e-b10a2ed67551",
   "metadata": {},
   "source": [
    "### Tokenize and Align with HuggingFace Library"
   ]
  },
  {
   "cell_type": "markdown",
   "id": "3c269cb5-90a0-40ae-8a5b-172ac9ebcc0f",
   "metadata": {},
   "source": [
    "Transformer models are often trained by tokenizers that split words into subwords. For instance, the word 'Africa' might get split into multiple subtokens. This can create some misalignment between the list of tags for the dataset and the list of labels generated by the tokenizer, since the tokenizer can split one word into several, or add special tokens. Before processing, it is important that you align the start and end indices with the tokens associated with the target answer word with a tokenize_and_align() function. In this case, since you are interested in the start and end indices of the answer, you will want to align the index of the sentence to match the index of the token for a word."
   ]
  },
  {
   "cell_type": "code",
   "execution_count": 17,
   "id": "8742a50d-6ca1-469a-9847-4e1fd477073c",
   "metadata": {},
   "outputs": [],
   "source": [
    "from transformers import DistilBertTokenizer"
   ]
  },
  {
   "cell_type": "code",
   "execution_count": 18,
   "id": "17ef6aec-a09d-43af-85c5-b01cc44b865f",
   "metadata": {},
   "outputs": [],
   "source": [
    "tokenizer = DistilBertTokenizer.from_pretrained('tokenizer/')"
   ]
  },
  {
   "cell_type": "code",
   "execution_count": 19,
   "id": "787f37f2-594f-45c1-afbd-105ba3fb276b",
   "metadata": {},
   "outputs": [],
   "source": [
    "def tokenize_align(example):\n",
    "    # Tokenize the input\n",
    "    encoding = tokenizer(example['sentences'],\n",
    "                         example['question'], \n",
    "                         truncation=True,\n",
    "                         padding=True, \n",
    "                         max_length=tokenizer.model_max_length\n",
    "                        )\n",
    "    \n",
    "    # Find the token indices corresponding to the start and end character positions\n",
    "    tokens = tokenizer.encode(example['sentences'])\n",
    "    \n",
    "    # You'll need to implement a custom method to map character indices to token indices\n",
    "    def find_token_index(char_idx):\n",
    "        current_text = \"\"\n",
    "        for i, token_id in enumerate(tokens):\n",
    "            token = tokenizer.decode([token_id])\n",
    "            current_text += token\n",
    "            if len(current_text) >= char_idx:\n",
    "                return i\n",
    "        return tokenizer.model_max_length\n",
    "\n",
    "    start_positions = find_token_index(example['str_idx'])\n",
    "    end_positions = find_token_index(example['end_idx'])\n",
    "    \n",
    "    return {\n",
    "        'input_ids': encoding['input_ids'], \n",
    "        'attention_mask': encoding['attention_mask'],  # Corrected from 'encoding_mask'\n",
    "        'start_positions': start_positions, \n",
    "        'end_positions': end_positions\n",
    "    }"
   ]
  },
  {
   "cell_type": "code",
   "execution_count": 20,
   "id": "5201af90-caeb-4a68-a6c5-207e331da760",
   "metadata": {
    "scrolled": true
   },
   "outputs": [],
   "source": [
    "qa_dataset = processed.map(tokenize_align)"
   ]
  },
  {
   "cell_type": "code",
   "execution_count": 21,
   "id": "4120110d-88a6-442f-a650-67c57ca0f461",
   "metadata": {},
   "outputs": [],
   "source": [
    "qa_dataset = qa_dataset.remove_columns(['story.answer','story.id', 'story.supporting_ids', 'story.text', 'story.type'])"
   ]
  },
  {
   "cell_type": "code",
   "execution_count": 22,
   "id": "8bfa1aa6-4857-4230-ae12-3fe0c00c51a2",
   "metadata": {
    "scrolled": true
   },
   "outputs": [
    {
     "data": {
      "text/plain": [
       "{'question': 'What is north of the bathroom?',\n",
       " 'sentences': 'The garden is north of the bathroom. The hallway is south of the bathroom.',\n",
       " 'answer': 'garden',\n",
       " 'str_idx': 4,\n",
       " 'end_idx': 10,\n",
       " 'input_ids': [101,\n",
       "  1996,\n",
       "  3871,\n",
       "  2003,\n",
       "  2167,\n",
       "  1997,\n",
       "  1996,\n",
       "  5723,\n",
       "  1012,\n",
       "  1996,\n",
       "  6797,\n",
       "  2003,\n",
       "  2148,\n",
       "  1997,\n",
       "  1996,\n",
       "  5723,\n",
       "  1012,\n",
       "  102,\n",
       "  2054,\n",
       "  2003,\n",
       "  2167,\n",
       "  1997,\n",
       "  1996,\n",
       "  5723,\n",
       "  1029,\n",
       "  102],\n",
       " 'attention_mask': [1,\n",
       "  1,\n",
       "  1,\n",
       "  1,\n",
       "  1,\n",
       "  1,\n",
       "  1,\n",
       "  1,\n",
       "  1,\n",
       "  1,\n",
       "  1,\n",
       "  1,\n",
       "  1,\n",
       "  1,\n",
       "  1,\n",
       "  1,\n",
       "  1,\n",
       "  1,\n",
       "  1,\n",
       "  1,\n",
       "  1,\n",
       "  1,\n",
       "  1,\n",
       "  1,\n",
       "  1,\n",
       "  1],\n",
       " 'start_positions': 0,\n",
       " 'end_positions': 2}"
      ]
     },
     "execution_count": 22,
     "metadata": {},
     "output_type": "execute_result"
    }
   ],
   "source": [
    "qa_dataset['train'][200]"
   ]
  },
  {
   "cell_type": "markdown",
   "id": "4d60f64f-9f3e-498e-8f2d-6940d53e2d36",
   "metadata": {},
   "source": [
    "The goal of extractive QA is to identify the portion of the text that contains the answer to a question.\n",
    "Transformer models are often trained by tokenizers that split words into subwords.\n",
    "Before processing, it is important that you align the start and end indices with the tokens associated with the target answer word."
   ]
  },
  {
   "cell_type": "markdown",
   "id": "51e64e39-da1d-462d-ab6a-56b88e107320",
   "metadata": {},
   "source": [
    "### Training\n",
    "Now that you have finished tokenizing and aligning your data, you can feed it into a pre-trained 🤗 Transformer model! You will use a DistilBERT model, which matches the tokenizer you used to preprocess your data."
   ]
  },
  {
   "cell_type": "code",
   "execution_count": 23,
   "id": "fe410038-b080-4025-bf28-874d14095f3b",
   "metadata": {},
   "outputs": [],
   "source": [
    "train_ds = qa_dataset['train']\n",
    "test_ds = qa_dataset['test']"
   ]
  },
  {
   "cell_type": "code",
   "execution_count": 24,
   "id": "a96bf19d-9309-4949-8409-69bb69cef016",
   "metadata": {},
   "outputs": [],
   "source": [
    "from transformers import TFDistilBertForQuestionAnswering, DistilBertConfig"
   ]
  },
  {
   "cell_type": "code",
   "execution_count": 25,
   "id": "f3d1b8ce-d685-47ff-8589-e0f3ea4dc320",
   "metadata": {},
   "outputs": [
    {
     "name": "stderr",
     "output_type": "stream",
     "text": [
      "2024-12-17 10:41:39.247851: I metal_plugin/src/device/metal_device.cc:1154] Metal device set to: Apple M1\n",
      "2024-12-17 10:41:39.247880: I metal_plugin/src/device/metal_device.cc:296] systemMemory: 8.00 GB\n",
      "2024-12-17 10:41:39.247885: I metal_plugin/src/device/metal_device.cc:313] maxCacheSize: 2.67 GB\n",
      "2024-12-17 10:41:39.247913: I tensorflow/core/common_runtime/pluggable_device/pluggable_device_factory.cc:306] Could not identify NUMA node of platform GPU ID 0, defaulting to 0. Your kernel may not have been built with NUMA support.\n",
      "2024-12-17 10:41:39.247923: I tensorflow/core/common_runtime/pluggable_device/pluggable_device_factory.cc:272] Created TensorFlow device (/job:localhost/replica:0/task:0/device:GPU:0 with 0 MB memory) -> physical PluggableDevice (device: 0, name: METAL, pci bus id: <undefined>)\n"
     ]
    }
   ],
   "source": [
    "config = DistilBertConfig.from_json_file('model/tensorflow/config.json')\n",
    "config.return_dict = False\n",
    "model = TFDistilBertForQuestionAnswering.from_config(config)"
   ]
  },
  {
   "cell_type": "markdown",
   "id": "a9612b35-be86-4021-9c7d-a9a0f0c0fda8",
   "metadata": {},
   "source": [
    "## Tensorflow Implementation"
   ]
  },
  {
   "cell_type": "markdown",
   "id": "d234a674-f3a4-4f01-8187-5106d59192ad",
   "metadata": {},
   "source": [
    "In this notebook, we will execute two implementations, one in tensorflow and one in pytorch"
   ]
  },
  {
   "cell_type": "markdown",
   "id": "054d1375-021b-41c4-9cfa-bd8980dd753e",
   "metadata": {},
   "source": [
    "Train and test datasets\n",
    "Note:\n",
    "\n",
    "- In the TensorFlow implementation, you will have to set the data format type to tensors, which may create ragged tensors (tensors of different lengths).\n",
    "- You will have to convert the ragged tensors to normal tensors using the to_tensor() method, which pads the tensors and sets the dimensions to [None, tokenizer.model_max_length] so you can feed different size tensors into your model based on the batch size."
   ]
  },
  {
   "cell_type": "code",
   "execution_count": 26,
   "id": "71d0642f-03a7-4280-98c0-b5c74e225e83",
   "metadata": {},
   "outputs": [],
   "source": [
    "import tensorflow as tf \n",
    "import keras"
   ]
  },
  {
   "cell_type": "code",
   "execution_count": 27,
   "id": "ab023f76-3dd0-4a66-8188-a7fabb0e74e6",
   "metadata": {},
   "outputs": [],
   "source": [
    "columns = ['input_ids','attention_mask', 'start_positions', 'end_positions']"
   ]
  },
  {
   "cell_type": "code",
   "execution_count": 28,
   "id": "eda38774-c3bd-4ae9-a13b-04c440c7f3ab",
   "metadata": {},
   "outputs": [],
   "source": [
    "train_ds.set_format(type='tf', columns=columns)\n",
    "\n",
    "train_features = {x: train_ds[x] for x in ['input_ids', 'attention_mask']}\n",
    "train_labels = {\n",
    "    \"start_positions\": tf.reshape(train_ds['start_positions'], shape=[-1,1]), \n",
    "     \"end_positions\": tf.reshape(train_ds['end_positions'], shape=[-1,1])\n",
    "}\n",
    "\n",
    "train_tfdataset = tf.data.Dataset.from_tensor_slices((train_features, train_labels)).batch(8)"
   ]
  },
  {
   "cell_type": "markdown",
   "id": "b8d18923-c830-437a-8880-a128c8dcc2d5",
   "metadata": {},
   "source": [
    "### Training "
   ]
  },
  {
   "cell_type": "markdown",
   "id": "3e1dc2d9-9de2-4b1a-a298-25b35a026dae",
   "metadata": {},
   "source": [
    "It is finally time to start training your model!\n",
    "\n",
    "* Create a custom training function using tf.GradientTape()\n",
    "* Target two loss functions, one for the start index and one for the end index.\n",
    "* tf.GradientTape() records the operations performed during forward propagation for automatic differentiation during back propagation."
   ]
  },
  {
   "cell_type": "code",
   "execution_count": 30,
   "id": "0dfdd412-c82b-4f7a-bd3d-99a2f25da767",
   "metadata": {},
   "outputs": [
    {
     "name": "stdout",
     "output_type": "stream",
     "text": [
      "Starting epoch: 0\n",
      "Training loss (for one batch) at step 0: 3.2421\n",
      "Training loss (for one batch) at step 20: 1.1361\n",
      "Training loss (for one batch) at step 40: 1.0772\n",
      "Training loss (for one batch) at step 60: 0.9943\n",
      "Training loss (for one batch) at step 80: 1.2489\n",
      "Training loss (for one batch) at step 100: 0.9040\n",
      "Training loss (for one batch) at step 120: 0.7896\n",
      "Starting epoch: 1\n",
      "Training loss (for one batch) at step 0: 0.7816\n",
      "Training loss (for one batch) at step 20: 1.0535\n",
      "Training loss (for one batch) at step 40: 0.7199\n",
      "Training loss (for one batch) at step 60: 0.9371\n",
      "Training loss (for one batch) at step 80: 1.0980\n",
      "Training loss (for one batch) at step 100: 0.8951\n",
      "Training loss (for one batch) at step 120: 0.8176\n",
      "Starting epoch: 2\n",
      "Training loss (for one batch) at step 0: 0.8034\n",
      "Training loss (for one batch) at step 20: 1.1305\n",
      "Training loss (for one batch) at step 40: 0.7463\n",
      "Training loss (for one batch) at step 60: 0.9125\n",
      "Training loss (for one batch) at step 80: 1.0288\n",
      "Training loss (for one batch) at step 100: 0.8518\n",
      "Training loss (for one batch) at step 120: 0.7165\n",
      "Starting epoch: 3\n",
      "Training loss (for one batch) at step 0: 0.7260\n",
      "Training loss (for one batch) at step 20: 0.6179\n",
      "Training loss (for one batch) at step 40: 0.5054\n",
      "Training loss (for one batch) at step 60: 0.5420\n",
      "Training loss (for one batch) at step 80: 0.6343\n",
      "Training loss (for one batch) at step 100: 0.2472\n",
      "Training loss (for one batch) at step 120: 0.5652\n",
      "Starting epoch: 4\n",
      "Training loss (for one batch) at step 0: 0.7147\n",
      "Training loss (for one batch) at step 20: 0.2275\n",
      "Training loss (for one batch) at step 40: 0.5111\n",
      "Training loss (for one batch) at step 60: 0.5226\n",
      "Training loss (for one batch) at step 80: 0.3594\n",
      "Training loss (for one batch) at step 100: 0.1156\n",
      "Training loss (for one batch) at step 120: 0.6657\n"
     ]
    }
   ],
   "source": [
    "# Total number of training epochs (complete passes through the entire dataset)\n",
    "EPOCHS = 5\n",
    "\n",
    "# Loss function for start positions - uses sparse categorical crossentropy\n",
    "# from_logits=True means the model outputs raw logits, not probabilities\n",
    "loss_fn1 = keras.losses.SparseCategoricalCrossentropy(from_logits=True)\n",
    "\n",
    "# Loss function for end positions - identical to start positions loss\n",
    "loss_fn2 = keras.losses.SparseCategoricalCrossentropy(from_logits=True)\n",
    "\n",
    "# Adam optimizer with a small learning rate (3e-5 = 0.00003)\n",
    "# This controls how much the model's weights are updated during training\n",
    "opt = keras.optimizers.legacy.Adam(learning_rate=3e-5)\n",
    "\n",
    "\n",
    "# List to track losses across training\n",
    "losses = []\n",
    "\n",
    "# Iterate through each epoch\n",
    "for epoch in range(EPOCHS):\n",
    "    print(\"Starting epoch: %d\"% epoch )\n",
    "    \n",
    "    # Iterate through batches of training data\n",
    "    for step, (x_batch_train, y_batch_train) in enumerate(train_tfdataset):\n",
    "        # Start gradient recording\n",
    "        with tf.GradientTape() as tape:\n",
    "            # Pass input batch through the model\n",
    "            # Returns scores for start and end of answer\n",
    "            answer_start_scores, answer_end_scores = model(x_batch_train)\n",
    "            \n",
    "            # Calculate loss for start positions\n",
    "            # Compares model's predicted start scores with true start positions\n",
    "            loss_start = loss_fn1(y_batch_train['start_positions'], answer_start_scores)\n",
    "            \n",
    "            # Calculate loss for end positions\n",
    "            # Compares model's predicted end scores with true end positions\n",
    "            loss_end = loss_fn2(y_batch_train['end_positions'], answer_end_scores)\n",
    "            \n",
    "            # Total loss is average of start and end losses\n",
    "            loss = 0.5 * (loss_start + loss_end)\n",
    "        \n",
    "        # Store loss for tracking\n",
    "        losses.append(loss)\n",
    "        \n",
    "        # Calculate gradients of loss with respect to model's trainable weights\n",
    "        grads = tape.gradient(loss, model.trainable_weights)\n",
    "        \n",
    "        # Apply gradients to update model weights\n",
    "        opt.apply_gradients(zip(grads, model.trainable_weights))\n",
    "        \n",
    "        # Print training loss every 20 steps\n",
    "        if step % 20 == 0:\n",
    "            print(\"Training loss (for one batch) at step %d: %.4f\"% (step, \n",
    "                                                                   float(loss_start)))"
   ]
  },
  {
   "cell_type": "code",
   "execution_count": null,
   "id": "dbba4f20-4211-482e-9f56-5184580f3310",
   "metadata": {},
   "outputs": [],
   "source": [
    "print(3e-5)"
   ]
  },
  {
   "cell_type": "code",
   "execution_count": 31,
   "id": "ed8b52e6-46cb-4bfb-819b-c9508e40b865",
   "metadata": {},
   "outputs": [
    {
     "data": {
      "image/png": "[encoded data removed]",
      "text/plain": [
       "<Figure size 640x480 with 1 Axes>"
      ]
     },
     "metadata": {},
     "output_type": "display_data"
    }
   ],
   "source": [
    "import matplotlib.pyplot as plt\n",
    "\n",
    "plt.plot(losses)\n",
    "plt.show()"
   ]
  },
  {
   "cell_type": "markdown",
   "id": "7c8ae4e9-608a-48be-bf8a-0ceb25473344",
   "metadata": {},
   "source": [
    "## Prediction "
   ]
  },
  {
   "cell_type": "code",
   "execution_count": 32,
   "id": "449b1053-7f23-4774-896f-bbed5cfd7a20",
   "metadata": {},
   "outputs": [
    {
     "name": "stdout",
     "output_type": "stream",
     "text": [
      "<class 'tuple'>\n",
      "What is south of the bedroom? Garden .\n"
     ]
    }
   ],
   "source": [
    "question, text = 'What is south of the bedroom?','The hallway is south of the garden. The garden is south of the bedroom.'\n",
    "input_dict = tokenizer(text, question, return_tensors='tf')\n",
    "outputs = model(input_dict)\n",
    "start_logits = outputs[0]\n",
    "end_logits = outputs[1]\n",
    "\n",
    "print(type(outputs))\n",
    "\n",
    "all_tokens = tokenizer.convert_ids_to_tokens(input_dict[\"input_ids\"].numpy()[0])\n",
    "answer = ' '.join(all_tokens[tf.math.argmax(start_logits, 1)[0] : tf.math.argmax(end_logits, 1)[0]+1])\n",
    "print(question, answer.capitalize())"
   ]
  }
 ],
 "metadata": {
  "kernelspec": {
   "display_name": "transformers",
   "language": "python",
   "name": "transformers"
  },
  "language_info": {
   "codemirror_mode": {
    "name": "ipython",
    "version": 3
   },
   "file_extension": ".py",
   "mimetype": "text/x-python",
   "name": "python",
   "nbconvert_exporter": "python",
   "pygments_lexer": "ipython3",
   "version": "3.9.21"
  }
 },
 "nbformat": 4,
 "nbformat_minor": 5
}
