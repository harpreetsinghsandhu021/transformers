{
 "cells": [
  {
   "cell_type": "markdown",
   "id": "19013828-d1ff-4a3d-b4c5-5f612507fbd9",
   "metadata": {},
   "source": [
    "# Named Entity Recognition"
   ]
  },
  {
   "cell_type": "markdown",
   "id": "618b2dd9-43e5-4e30-b8e3-8e8e8e129af7",
   "metadata": {},
   "source": [
    "## Importing Dependencies"
   ]
  },
  {
   "cell_type": "code",
   "execution_count": 55,
   "id": "47efa67a-60b3-420a-b41f-82c30bb437ab",
   "metadata": {
    "scrolled": true
   },
   "outputs": [],
   "source": [
    "import tensorflow as tf \n",
    "import pandas as pd\n",
    "import numpy as np \n",
    "import json \n",
    "import random \n",
    "import logging \n",
    "import re \n",
    "import matplotlib.pyplot as plt \n",
    "\n",
    "from tensorflow.keras.preprocessing.sequence import pad_sequences\n",
    "\n",
    "from transformers import DistilBertTokenizerFast\n",
    "\n",
    "tf.get_logger().setLevel('ERROR')"
   ]
  },
  {
   "cell_type": "markdown",
   "id": "66ef2691-02c8-4729-b0d0-e92bbefa617f",
   "metadata": {},
   "source": [
    "## GPU Acceleration"
   ]
  },
  {
   "cell_type": "code",
   "execution_count": 2,
   "id": "56725fe7-9662-4bfd-93dd-26096216688a",
   "metadata": {},
   "outputs": [
    {
     "name": "stdout",
     "output_type": "stream",
     "text": [
      "PhysicalDevice(name='/physical_device:GPU:0', device_type='GPU')\n"
     ]
    }
   ],
   "source": [
    "gpus = tf.config.list_physical_devices('GPU')\n",
    "print(gpus[0])\n",
    "if gpus: \n",
    "    for gpu in gpus: \n",
    "        tf.config.experimental.set_virtual_device_configuration(gpu,\n",
    "                                                               [tf.config.experimental.VirtualDeviceConfiguration(memory_limit=4096)])"
   ]
  },
  {
   "cell_type": "markdown",
   "id": "5281929d-a8ef-46b3-bf94-b6339c8c067b",
   "metadata": {},
   "source": [
    "## Named Entity Recognition to process resumes "
   ]
  },
  {
   "cell_type": "markdown",
   "id": "03d4d725-1f21-4d96-ac9a-fb796d3add2e",
   "metadata": {},
   "source": [
    "Named-entity recognition (NER) is a problem that has a goal to locate and classify named entities mentioned in unstructured text into pre-defined categories such as person names, organizations, locations, medical codes, time expressions, etc.\n",
    "\n",
    "NER is used in many fields in NPL and it can help to answer some questions such as:\n",
    "- Which companies and persons are mentioned in the documents?\n",
    "- In which articles or posts is specified product mentioned?\n",
    "- Does the article contain medical terms and which ones?\n",
    "  \n",
    "State-of-the-art NER systems for English produce near-human performance where the best system scored 93.39% of F-measure while human annotators have a score around 97%.\n",
    "\n",
    "Named-entity recognition is often broken down into two distinct problems:\n",
    "- Detection of names\n",
    "- Classification of the names by the type of entity they refer to (person, organization or location)\n",
    "- Detection of names is typical simplified to a segmentation problem where a single name might be constructed of several substrings. For example \"Bank of America\" is a single name despite that the substring \"America\" is itself a name. Classification of names requires choosing an ontology by which to organize categories of things.\n",
    "\n",
    "While doing NER, besides the correct and incorrect predicted terms, we'll probably face some \"partially correct\" predictions. For example:\n",
    "- Uncomplete names (missing the last token of \"John Smith, M.D.\")\n",
    "- Names with more tokens (including the \"mr.\" token in \"mr. John Smith\")\n",
    "- Partitioning adjacent entities differently (treating two names as one \"Hans, Jones Blick\")\n",
    "- Assigning related but inexact type (for example, \"substance\" vs. \"drug\", or \"school\" vs. \"organization\")\n",
    "- Correctly identifying an entity, when what the user wanted was a smaller- or larger-scope entity (for example, identifying \"James Madison\" as a personal name, when it's part of \"James Madison University\")"
   ]
  },
  {
   "cell_type": "markdown",
   "id": "53503de5-a043-4802-8d07-55ab5f7c6b20",
   "metadata": {},
   "source": [
    "## Dataset Cleaning "
   ]
  },
  {
   "cell_type": "markdown",
   "id": "a288a566-d822-4746-81aa-69587ddc0fcc",
   "metadata": {},
   "source": [
    "In this notebook, we will optimize a transformer model on a dataset of resumes"
   ]
  },
  {
   "cell_type": "code",
   "execution_count": 3,
   "id": "d8b973a9-2d16-4dc2-a273-2a49a94ba922",
   "metadata": {},
   "outputs": [],
   "source": [
    "df_data = pd.read_json('ner.json', lines=True)\n",
    "df_data = df_data.drop(['extras'], axis=1)\n",
    "df_data['content'] = df_data['content'].str.replace(\"\\n\",\" \")"
   ]
  },
  {
   "cell_type": "code",
   "execution_count": 4,
   "id": "97c67ef1-743e-4e5f-875b-531996a32b73",
   "metadata": {},
   "outputs": [
    {
     "data": {
      "text/html": [
       "<div>\n",
       "<style scoped>\n",
       "    .dataframe tbody tr th:only-of-type {\n",
       "        vertical-align: middle;\n",
       "    }\n",
       "\n",
       "    .dataframe tbody tr th {\n",
       "        vertical-align: top;\n",
       "    }\n",
       "\n",
       "    .dataframe thead th {\n",
       "        text-align: right;\n",
       "    }\n",
       "</style>\n",
       "<table border=\"1\" class=\"dataframe\">\n",
       "  <thead>\n",
       "    <tr style=\"text-align: right;\">\n",
       "      <th></th>\n",
       "      <th>content</th>\n",
       "      <th>annotation</th>\n",
       "    </tr>\n",
       "  </thead>\n",
       "  <tbody>\n",
       "    <tr>\n",
       "      <th>0</th>\n",
       "      <td>Abhishek Jha Application Development Associate...</td>\n",
       "      <td>[{'label': ['Skills'], 'points': [{'start': 12...</td>\n",
       "    </tr>\n",
       "    <tr>\n",
       "      <th>1</th>\n",
       "      <td>Afreen Jamadar Active member of IIIT Committee...</td>\n",
       "      <td>[{'label': ['Email Address'], 'points': [{'sta...</td>\n",
       "    </tr>\n",
       "    <tr>\n",
       "      <th>2</th>\n",
       "      <td>Akhil Yadav Polemaina Hyderabad, Telangana - E...</td>\n",
       "      <td>[{'label': ['Skills'], 'points': [{'start': 37...</td>\n",
       "    </tr>\n",
       "    <tr>\n",
       "      <th>3</th>\n",
       "      <td>Alok Khandai Operational Analyst (SQL DBA) Eng...</td>\n",
       "      <td>[{'label': ['Skills'], 'points': [{'start': 80...</td>\n",
       "    </tr>\n",
       "    <tr>\n",
       "      <th>4</th>\n",
       "      <td>Ananya Chavan lecturer - oracle tutorials  Mum...</td>\n",
       "      <td>[{'label': ['Degree'], 'points': [{'start': 20...</td>\n",
       "    </tr>\n",
       "  </tbody>\n",
       "</table>\n",
       "</div>"
      ],
      "text/plain": [
       "                                             content  \\\n",
       "0  Abhishek Jha Application Development Associate...   \n",
       "1  Afreen Jamadar Active member of IIIT Committee...   \n",
       "2  Akhil Yadav Polemaina Hyderabad, Telangana - E...   \n",
       "3  Alok Khandai Operational Analyst (SQL DBA) Eng...   \n",
       "4  Ananya Chavan lecturer - oracle tutorials  Mum...   \n",
       "\n",
       "                                          annotation  \n",
       "0  [{'label': ['Skills'], 'points': [{'start': 12...  \n",
       "1  [{'label': ['Email Address'], 'points': [{'sta...  \n",
       "2  [{'label': ['Skills'], 'points': [{'start': 37...  \n",
       "3  [{'label': ['Skills'], 'points': [{'start': 80...  \n",
       "4  [{'label': ['Degree'], 'points': [{'start': 20...  "
      ]
     },
     "execution_count": 4,
     "metadata": {},
     "output_type": "execute_result"
    }
   ],
   "source": [
    "df_data.head()"
   ]
  },
  {
   "cell_type": "code",
   "execution_count": 5,
   "id": "a1c98d93-f285-47f9-a43e-fdfa0376fbe8",
   "metadata": {},
   "outputs": [
    {
     "data": {
      "text/plain": [
       "[{'label': ['Skills'],\n",
       "  'points': [{'start': 1295,\n",
       "    'end': 1621,\n",
       "    'text': '\\n• Programming language: C, C++, Java\\n• Oracle PeopleSoft\\n• Internet Of Things\\n• Machine Learning\\n• Database Management System\\n• Computer Networks\\n• Operating System worked on: Linux, Windows, Mac\\n\\nNon - Technical Skills\\n\\n• Honest and Hard-Working\\n• Tolerant and Flexible to Different Situations\\n• Polite and Calm\\n• Team-Player'}]},\n",
       " {'label': ['Skills'],\n",
       "  'points': [{'start': 993,\n",
       "    'end': 1153,\n",
       "    'text': 'C (Less than 1 year), Database (Less than 1 year), Database Management (Less than 1 year),\\nDatabase Management System (Less than 1 year), Java (Less than 1 year)'}]},\n",
       " {'label': ['College Name'],\n",
       "  'points': [{'start': 939, 'end': 956, 'text': 'Kendriya Vidyalaya'}]},\n",
       " {'label': ['College Name'],\n",
       "  'points': [{'start': 883, 'end': 904, 'text': 'Woodbine modern school'}]},\n",
       " {'label': ['Graduation Year'],\n",
       "  'points': [{'start': 856, 'end': 860, 'text': '2017\\n'}]},\n",
       " {'label': ['College Name'],\n",
       "  'points': [{'start': 771,\n",
       "    'end': 813,\n",
       "    'text': 'B.v.b college of engineering and technology'}]},\n",
       " {'label': ['Designation'],\n",
       "  'points': [{'start': 727,\n",
       "    'end': 769,\n",
       "    'text': 'B.E in Information science and engineering\\n'}]},\n",
       " {'label': ['Companies worked at'],\n",
       "  'points': [{'start': 407, 'end': 415, 'text': 'Accenture'}]},\n",
       " {'label': ['Designation'],\n",
       "  'points': [{'start': 372,\n",
       "    'end': 404,\n",
       "    'text': 'Application Development Associate'}]},\n",
       " {'label': ['Email Address'],\n",
       "  'points': [{'start': 95,\n",
       "    'end': 145,\n",
       "    'text': 'Indeed: indeed.com/r/Abhishek-Jha/10e7a8cb732bc43a\\n'}]},\n",
       " {'label': ['Location'],\n",
       "  'points': [{'start': 60, 'end': 68, 'text': 'Bengaluru'}]},\n",
       " {'label': ['Companies worked at'],\n",
       "  'points': [{'start': 49, 'end': 57, 'text': 'Accenture'}]},\n",
       " {'label': ['Designation'],\n",
       "  'points': [{'start': 13,\n",
       "    'end': 45,\n",
       "    'text': 'Application Development Associate'}]},\n",
       " {'label': ['Name'],\n",
       "  'points': [{'start': 0, 'end': 11, 'text': 'Abhishek Jha'}]}]"
      ]
     },
     "execution_count": 5,
     "metadata": {},
     "output_type": "execute_result"
    }
   ],
   "source": [
    "df_data.iloc[0]['annotation']"
   ]
  },
  {
   "cell_type": "markdown",
   "id": "8d8b0920-ef85-4912-94cd-a63160d431c8",
   "metadata": {},
   "source": [
    "Now, we write a function that merges overlapping intervals that have the same identifier, which is important for:\n",
    "- Cleaning up inconsistent annotations\n",
    "- Resolving overlapping entity mentions\n",
    "- Preparing clean, non-overlapping spans for transformer-based NER training"
   ]
  },
  {
   "cell_type": "code",
   "execution_count": 6,
   "id": "2a0efde4-a309-47dd-9113-f687bd607d36",
   "metadata": {},
   "outputs": [],
   "source": [
    "def merge_intervals(intervals): \n",
    "    # Sort Intervals based on start time(first interval of each tuple) \n",
    "    sorted_by_lower_bound = sorted(intervals, key=lambda tup: tup[0])\n",
    "\n",
    "    merged = []\n",
    "\n",
    "    for higher in sorted_by_lower_bound: \n",
    "\n",
    "        if not merged: # If merged list is empty, then append the first interval \n",
    "            merged.append(higher)\n",
    "        else: \n",
    "            # get the last interval from the merged list for comparison \n",
    "            lower = merged[-1]\n",
    "\n",
    "            # Check If intervals overlap\n",
    "            if higher[0] <= lower[1]: \n",
    "                # Check if both intervals have same identifier \n",
    "                if lower[2] is higher[2]: \n",
    "                    # Take the maximum of the end times \n",
    "                    upper_bound = max(lower[1], higher[1])\n",
    "\n",
    "                    # merge intervals keeping keeping start of first and max end time \n",
    "                    merged[-1] = (lower[0], upper_bound, lower[2])\n",
    "                else: \n",
    "                    # If Identifiers are different, handle based on end time \n",
    "                    if lower[1] > higher[1]: \n",
    "                        # Keep the interval with larger end time \n",
    "                        merged[-1] = lower\n",
    "                    else: \n",
    "                        merged[-1] = (lower[0], higher[1], higher[2])\n",
    "            else:\n",
    "                # If no overlap found, add the interval to merged list \n",
    "                merged.append(higher)\n",
    "\n",
    "    return merged"
   ]
  },
  {
   "cell_type": "code",
   "execution_count": 7,
   "id": "91c6f66e-8839-4e20-abc0-3034140ae11d",
   "metadata": {},
   "outputs": [],
   "source": [
    "def get_entities(df):\n",
    "    \n",
    "    entities = []\n",
    "    \n",
    "    for i in range(len(df)):\n",
    "        entity = []\n",
    "    \n",
    "        for annot in df['annotation'][i]:\n",
    "            try:\n",
    "                ent = annot['label'][0]\n",
    "                start = annot['points'][0]['start']\n",
    "                end = annot['points'][0]['end'] + 1\n",
    "                entity.append((start, end, ent))\n",
    "            except:\n",
    "                pass\n",
    "\n",
    "        entity = merge_intervals(entity)\n",
    "        entities.append(entity)\n",
    "\n",
    "    return entities"
   ]
  },
  {
   "cell_type": "code",
   "execution_count": 8,
   "id": "b22dc143-28a1-4477-b56a-f2535a793d66",
   "metadata": {},
   "outputs": [
    {
     "data": {
      "text/html": [
       "<div>\n",
       "<style scoped>\n",
       "    .dataframe tbody tr th:only-of-type {\n",
       "        vertical-align: middle;\n",
       "    }\n",
       "\n",
       "    .dataframe tbody tr th {\n",
       "        vertical-align: top;\n",
       "    }\n",
       "\n",
       "    .dataframe thead th {\n",
       "        text-align: right;\n",
       "    }\n",
       "</style>\n",
       "<table border=\"1\" class=\"dataframe\">\n",
       "  <thead>\n",
       "    <tr style=\"text-align: right;\">\n",
       "      <th></th>\n",
       "      <th>content</th>\n",
       "      <th>annotation</th>\n",
       "      <th>entities</th>\n",
       "    </tr>\n",
       "  </thead>\n",
       "  <tbody>\n",
       "    <tr>\n",
       "      <th>0</th>\n",
       "      <td>Abhishek Jha Application Development Associate...</td>\n",
       "      <td>[{'label': ['Skills'], 'points': [{'start': 12...</td>\n",
       "      <td>[(0, 12, Name), (13, 46, Designation), (49, 58...</td>\n",
       "    </tr>\n",
       "    <tr>\n",
       "      <th>1</th>\n",
       "      <td>Afreen Jamadar Active member of IIIT Committee...</td>\n",
       "      <td>[{'label': ['Email Address'], 'points': [{'sta...</td>\n",
       "      <td>[(0, 14, Name), (62, 68, Location), (104, 148,...</td>\n",
       "    </tr>\n",
       "    <tr>\n",
       "      <th>2</th>\n",
       "      <td>Akhil Yadav Polemaina Hyderabad, Telangana - E...</td>\n",
       "      <td>[{'label': ['Skills'], 'points': [{'start': 37...</td>\n",
       "      <td>[(0, 21, Name), (22, 31, Location), (65, 117, ...</td>\n",
       "    </tr>\n",
       "    <tr>\n",
       "      <th>3</th>\n",
       "      <td>Alok Khandai Operational Analyst (SQL DBA) Eng...</td>\n",
       "      <td>[{'label': ['Skills'], 'points': [{'start': 80...</td>\n",
       "      <td>[(0, 12, Name), (13, 51, Designation), (54, 60...</td>\n",
       "    </tr>\n",
       "    <tr>\n",
       "      <th>4</th>\n",
       "      <td>Ananya Chavan lecturer - oracle tutorials  Mum...</td>\n",
       "      <td>[{'label': ['Degree'], 'points': [{'start': 20...</td>\n",
       "      <td>[(0, 13, Name), (14, 22, Designation), (24, 41...</td>\n",
       "    </tr>\n",
       "  </tbody>\n",
       "</table>\n",
       "</div>"
      ],
      "text/plain": [
       "                                             content  \\\n",
       "0  Abhishek Jha Application Development Associate...   \n",
       "1  Afreen Jamadar Active member of IIIT Committee...   \n",
       "2  Akhil Yadav Polemaina Hyderabad, Telangana - E...   \n",
       "3  Alok Khandai Operational Analyst (SQL DBA) Eng...   \n",
       "4  Ananya Chavan lecturer - oracle tutorials  Mum...   \n",
       "\n",
       "                                          annotation  \\\n",
       "0  [{'label': ['Skills'], 'points': [{'start': 12...   \n",
       "1  [{'label': ['Email Address'], 'points': [{'sta...   \n",
       "2  [{'label': ['Skills'], 'points': [{'start': 37...   \n",
       "3  [{'label': ['Skills'], 'points': [{'start': 80...   \n",
       "4  [{'label': ['Degree'], 'points': [{'start': 20...   \n",
       "\n",
       "                                            entities  \n",
       "0  [(0, 12, Name), (13, 46, Designation), (49, 58...  \n",
       "1  [(0, 14, Name), (62, 68, Location), (104, 148,...  \n",
       "2  [(0, 21, Name), (22, 31, Location), (65, 117, ...  \n",
       "3  [(0, 12, Name), (13, 51, Designation), (54, 60...  \n",
       "4  [(0, 13, Name), (14, 22, Designation), (24, 41...  "
      ]
     },
     "execution_count": 8,
     "metadata": {},
     "output_type": "execute_result"
    }
   ],
   "source": [
    "df_data['entities'] = get_entities(df_data)\n",
    "df_data.head()"
   ]
  },
  {
   "cell_type": "markdown",
   "id": "dd3c8b65-202c-4bd9-bfe5-9e5a3683bea2",
   "metadata": {},
   "source": [
    "Next, We write a function that converts annotation from dataturks json to spaCy`s training data format."
   ]
  },
  {
   "cell_type": "code",
   "execution_count": 9,
   "id": "624a0d1c-5005-4141-8f4d-0ddf15afe092",
   "metadata": {},
   "outputs": [],
   "source": [
    "def convert_datatrunks_to_spacy(dataturks_json_filepath): \n",
    "    print('running first')\n",
    "    try: \n",
    "        training_data = []\n",
    "        lines = [] \n",
    "\n",
    "        # Read all lines from JSON file \n",
    "        with open(dataturks_json_filepath, 'r') as f: \n",
    "            lines = f.readlines()\n",
    "\n",
    "        for line in lines: \n",
    "            # parse Json and extract content \n",
    "            data = json.loads(line)\n",
    "            text = data['content'].replace('\\n', \" \")\n",
    "            entities = []\n",
    "\n",
    "            data_annotations = data['annotation']\n",
    "\n",
    "            if data_annotations is not None: \n",
    "                for annotation in data_annotations: \n",
    "                    # Extract the point data (start, end , text) and label\n",
    "                    point = annotation['points'][0]\n",
    "                    labels = annotation['label']\n",
    "\n",
    "                    # Convert single label to list for consistent processing \n",
    "                    if not isinstance(labels, list): \n",
    "                        labels = [labels]\n",
    "\n",
    "                    # Process each label for the current plot \n",
    "                    for label in labels:\n",
    "                        point_start = point['start']\n",
    "                        point_end = point['end']\n",
    "                        point_text = point['text']\n",
    "\n",
    "                        # Handle whitespace by adjusting start/end positions \n",
    "                        lstrip_diff = len(point_text) - len(point_text.lstrip())\n",
    "                        rstrip_diff = len(point_text) - len(point_text.rstrip())\n",
    "\n",
    "                        if lstrip_diff != 0: \n",
    "                            point_start = point_start + lstrip_diff\n",
    "                        if rstrip_diff != 0: \n",
    "                            point_end = point_end - rstrip_diff\n",
    "\n",
    "                        # Add entity tup\n",
    "                        entities.append((point_start, point_end + 1, label))\n",
    "\n",
    "            training_data.append((text, {'entities':entities}))\n",
    "        return training_data\n",
    "    except Exception as e:\n",
    "        logging.exception('Unable to process ' + dataturks_json_filepath + '\\n' + 'error = ' + str(e))\n",
    "        return None"
   ]
  },
  {
   "cell_type": "code",
   "execution_count": 10,
   "id": "244b4042-99b6-4ecf-bbec-a295d65a46a2",
   "metadata": {},
   "outputs": [],
   "source": [
    "# This function aims at removing leading and trailing white spaces from entity spans\n",
    "def trim_entity_spans(data: list) -> list: \n",
    "    # Define regex pattern to match whitespace characters \n",
    "    invalid_span_tokens = re.compile(r'\\s') \n",
    "\n",
    "    cleaned_data = []\n",
    "\n",
    "    for text, annotations in data:\n",
    "        entities = annotations['entities']\n",
    "        valid_entities = []\n",
    "\n",
    "        for start, end, label in entities: \n",
    "            # Initialize valid boundaries with original positions \n",
    "            valid_start = start\n",
    "            valid_end = end \n",
    "\n",
    "            # Move start position further until we find non-whitespace \n",
    "            while valid_start < len(text) and invalid_span_tokens.match(text[valid_start]): \n",
    "                valid_start += 1\n",
    "\n",
    "            # Move end position backwards until we find non-whitespace \n",
    "            while valid_end > 1 and invalid_span_tokens.match(text[valid_end - 1]):\n",
    "                valid_end -= 1\n",
    "\n",
    "            valid_entities.append([valid_start, valid_end, label])\n",
    "\n",
    "        cleaned_data.append([text, {'entities' : valid_entities}])\n",
    "\n",
    "    return cleaned_data "
   ]
  },
  {
   "cell_type": "code",
   "execution_count": 11,
   "id": "8114f718-b1df-4d05-991c-bd3129342a09",
   "metadata": {},
   "outputs": [
    {
     "name": "stdout",
     "output_type": "stream",
     "text": [
      "running first\n"
     ]
    }
   ],
   "source": [
    "data = trim_entity_spans(convert_datatrunks_to_spacy(\"ner.json\"))"
   ]
  },
  {
   "cell_type": "code",
   "execution_count": 12,
   "id": "cc5f5707-b284-4264-bc8b-39ae263b9f53",
   "metadata": {},
   "outputs": [
    {
     "data": {
      "text/plain": [
       "{'entities': [[1296, 1622, 'Skills'],\n",
       "  [993, 1154, 'Skills'],\n",
       "  [939, 957, 'College Name'],\n",
       "  [883, 905, 'College Name'],\n",
       "  [856, 860, 'Graduation Year'],\n",
       "  [771, 814, 'College Name'],\n",
       "  [727, 769, 'Designation'],\n",
       "  [407, 416, 'Companies worked at'],\n",
       "  [372, 405, 'Designation'],\n",
       "  [95, 145, 'Email Address'],\n",
       "  [60, 69, 'Location'],\n",
       "  [49, 58, 'Companies worked at'],\n",
       "  [13, 46, 'Designation'],\n",
       "  [0, 12, 'Name']]}"
      ]
     },
     "execution_count": 12,
     "metadata": {},
     "output_type": "execute_result"
    }
   ],
   "source": [
    "data[0][1]"
   ]
  },
  {
   "cell_type": "markdown",
   "id": "47a4f082-5fe0-4567-afee-3d77f64bff83",
   "metadata": {},
   "source": [
    "Now, we write a function which aims to process text data and their entity annotations to create world-level labels"
   ]
  },
  {
   "cell_type": "code",
   "execution_count": 13,
   "id": "a040e2d0-ba7c-478a-b528-c3d63ff8e2c3",
   "metadata": {},
   "outputs": [],
   "source": [
    "from tqdm.notebook import tqdm \n",
    "\n",
    "def clean_dataset(data): \n",
    "    # dataframe to store cleaned sentences with their entity labels \n",
    "    cleaned_data_frame = pd.DataFrame(columns=['sentences_cleaned'])\n",
    "    sum1 = 0\n",
    "\n",
    "    for i in tqdm(range(len(data))): \n",
    "        start = 0 \n",
    "        # create a list of \"Empty\" labels for each word in the sentence \n",
    "        emptyList = [\"Empty\"] * len(data[i][0].split())\n",
    "        numberOfWords = 0 \n",
    "\n",
    "        # get the text and its annotations \n",
    "        strData = data[i][0] # the actual text \n",
    "        strDictData = data[i][1] # dictionary containing entity annotations \n",
    "        lenOfString = len(strData)\n",
    "        lastIndexOfSpace = strData.rfind(' ')\n",
    "\n",
    "        # Process each character in the text \n",
    "        for i in range(lenOfString): \n",
    "            # When we find a word boundary (space followed by non-space)\n",
    "            if (strData[i] == \" \" and strData[i + 1] != \" \"): \n",
    "\n",
    "                # check each entity annotation \n",
    "                for k, v in strDictData.items(): \n",
    "                    for j in range(len(v)): \n",
    "                        entList = v[len(v)-j-1]\n",
    "\n",
    "                        # If current position falls within entity boundaries \n",
    "                        if (start>=int(entList[0]) and i<=int(entList[1])): \n",
    "                            # assign entity label to the word \n",
    "                            emptyList[numberOfWords] = entList[2]\n",
    "                            break\n",
    "                        else: \n",
    "                            continue\n",
    "\n",
    "                start = i + 1\n",
    "                numberOfWords += 1\n",
    "\n",
    "            # Handle the last word\n",
    "            if (i == lastIndexOfSpace): \n",
    "                for j in range(len(v)): \n",
    "                    entList = v[len(v)-j-1]\n",
    "\n",
    "                    if(lastIndexOfSpace >= int(entList[0]) and lenOfString<= entList[1]): \n",
    "                        emptyList[numberOfWords] = entList[2]\n",
    "                        numberOfWords += 1\n",
    "\n",
    "        cleaned_data_frame = pd.concat([cleaned_data_frame, pd.DataFrame({'sentences_cleaned': [emptyList]})], ignore_index=True)\n",
    "\n",
    "        sum1 = sum1 + numberOfWords\n",
    "\n",
    "    return cleaned_data_frame      \n"
   ]
  },
  {
   "cell_type": "code",
   "execution_count": 14,
   "id": "47c6ca8a-0ed7-4063-99a0-0c572cd07183",
   "metadata": {
    "scrolled": true
   },
   "outputs": [
    {
     "data": {
      "application/vnd.jupyter.widget-view+json": {
       "model_id": "68dbfa0d9fba438c9c495ba075735e50",
       "version_major": 2,
       "version_minor": 0
      },
      "text/plain": [
       "  0%|          | 0/220 [00:00<?, ?it/s]"
      ]
     },
     "metadata": {},
     "output_type": "display_data"
    }
   ],
   "source": [
    "cleanedDF = clean_dataset(data)"
   ]
  },
  {
   "cell_type": "markdown",
   "id": "99f02542-41d7-4a87-a215-53a90ecd1483",
   "metadata": {},
   "source": [
    "Take a look at your cleaned dataset and the categories the named-entities are matched to, or 'tags'."
   ]
  },
  {
   "cell_type": "code",
   "execution_count": 15,
   "id": "37fc3dc5-f795-4ad0-b2f0-19f8670e1076",
   "metadata": {},
   "outputs": [
    {
     "data": {
      "text/html": [
       "<div>\n",
       "<style scoped>\n",
       "    .dataframe tbody tr th:only-of-type {\n",
       "        vertical-align: middle;\n",
       "    }\n",
       "\n",
       "    .dataframe tbody tr th {\n",
       "        vertical-align: top;\n",
       "    }\n",
       "\n",
       "    .dataframe thead th {\n",
       "        text-align: right;\n",
       "    }\n",
       "</style>\n",
       "<table border=\"1\" class=\"dataframe\">\n",
       "  <thead>\n",
       "    <tr style=\"text-align: right;\">\n",
       "      <th></th>\n",
       "      <th>sentences_cleaned</th>\n",
       "    </tr>\n",
       "  </thead>\n",
       "  <tbody>\n",
       "    <tr>\n",
       "      <th>0</th>\n",
       "      <td>[Name, Name, Designation, Designation, Designa...</td>\n",
       "    </tr>\n",
       "    <tr>\n",
       "      <th>1</th>\n",
       "      <td>[Name, Name, Empty, Empty, Empty, Empty, Empty...</td>\n",
       "    </tr>\n",
       "    <tr>\n",
       "      <th>2</th>\n",
       "      <td>[Name, Name, Name, Empty, Empty, Empty, Empty,...</td>\n",
       "    </tr>\n",
       "    <tr>\n",
       "      <th>3</th>\n",
       "      <td>[Name, Name, Designation, Designation, Designa...</td>\n",
       "    </tr>\n",
       "    <tr>\n",
       "      <th>4</th>\n",
       "      <td>[Name, Name, Designation, Empty, Companies wor...</td>\n",
       "    </tr>\n",
       "  </tbody>\n",
       "</table>\n",
       "</div>"
      ],
      "text/plain": [
       "                                   sentences_cleaned\n",
       "0  [Name, Name, Designation, Designation, Designa...\n",
       "1  [Name, Name, Empty, Empty, Empty, Empty, Empty...\n",
       "2  [Name, Name, Name, Empty, Empty, Empty, Empty,...\n",
       "3  [Name, Name, Designation, Designation, Designa...\n",
       "4  [Name, Name, Designation, Empty, Companies wor..."
      ]
     },
     "execution_count": 15,
     "metadata": {},
     "output_type": "execute_result"
    }
   ],
   "source": [
    "cleanedDF.head()"
   ]
  },
  {
   "cell_type": "markdown",
   "id": "1c8803b0-7594-4035-9857-ffeb4f2f3780",
   "metadata": {},
   "source": [
    "## Padding and generating Tags "
   ]
  },
  {
   "cell_type": "markdown",
   "id": "5cbe81a5-0a65-48e2-8070-fdcb0e728bd8",
   "metadata": {},
   "source": [
    "Now, It`s time to generate a list of unique tags you will match the named-entities to "
   ]
  },
  {
   "cell_type": "code",
   "execution_count": 16,
   "id": "3dc1cbb4-360f-4281-906c-e9d40fbdd180",
   "metadata": {},
   "outputs": [],
   "source": [
    "# Get unique tags from cleaned sentences and convert to a set \n",
    "unique_tags = set(cleanedDF['sentences_cleaned'].explode().unique())\n",
    "\n",
    "# Create objects for tag-to-id and id-to-tag mappings\n",
    "tag2id = {tag: id for id, tag in enumerate(unique_tags)}\n",
    "id2tag = {id: tag for tag, id in tag2id.items()}"
   ]
  },
  {
   "cell_type": "code",
   "execution_count": 17,
   "id": "05d9557e-a83f-49ff-b8c8-df22a1ea66ef",
   "metadata": {},
   "outputs": [
    {
     "data": {
      "text/plain": [
       "{'College Name',\n",
       " 'Companies worked at',\n",
       " 'Degree',\n",
       " 'Designation',\n",
       " 'Email Address',\n",
       " 'Empty',\n",
       " 'Graduation Year',\n",
       " 'Location',\n",
       " 'Name',\n",
       " 'Skills',\n",
       " 'UNKNOWN',\n",
       " 'Years of Experience'}"
      ]
     },
     "execution_count": 17,
     "metadata": {},
     "output_type": "execute_result"
    }
   ],
   "source": [
    "unique_tags"
   ]
  },
  {
   "cell_type": "markdown",
   "id": "f344f578-aa6e-4705-bc6f-bfbd0ab7d055",
   "metadata": {},
   "source": [
    "Next, we will create an array of tags from your cleaned dataset. Oftentimes, your input sequence can exceed the maximum length of a sequence your network can process, so it needs to be cut off to that desired maximum length. And when the input sequence is shorter than the desired length, we need to append zeros in its end."
   ]
  },
  {
   "cell_type": "code",
   "execution_count": 18,
   "id": "254e7309-bf9a-449b-a5fb-3d21594be6ab",
   "metadata": {
    "scrolled": true
   },
   "outputs": [],
   "source": [
    "MAX_LEN = 512 \n",
    "labels = cleanedDF['sentences_cleaned'].values.tolist() \n",
    "\n",
    "tags =pad_sequences([[tag2id.get(lab) for lab in label] for label in labels], \n",
    "                   maxlen=MAX_LEN, value=tag2id['Empty'], padding='post', dtype='long', truncating='post')\n"
   ]
  },
  {
   "cell_type": "code",
   "execution_count": 19,
   "id": "86bec41a-6db8-4ee0-9c6d-a24d25668f0c",
   "metadata": {},
   "outputs": [
    {
     "data": {
      "text/plain": [
       "array([[5, 5, 1, ..., 6, 6, 6],\n",
       "       [5, 5, 6, ..., 6, 6, 6],\n",
       "       [5, 5, 5, ..., 6, 0, 6],\n",
       "       ...,\n",
       "       [5, 5, 1, ..., 6, 6, 6],\n",
       "       [5, 5, 1, ..., 6, 6, 6],\n",
       "       [5, 5, 1, ..., 6, 6, 6]])"
      ]
     },
     "execution_count": 19,
     "metadata": {},
     "output_type": "execute_result"
    }
   ],
   "source": [
    "tags"
   ]
  },
  {
   "cell_type": "markdown",
   "id": "6d5a5f89-875a-4b74-afc6-b83f366ded51",
   "metadata": {},
   "source": [
    "## Tokenize and Align Labels with HuggingFace Library\n",
    "\n",
    "Before feeding the texts to a Transformer model, you will need to tokenize your input using a [🤗 Transformer tokenizer](https://huggingface.co/transformers/main_classes/tokenizer.html). It is crucial that the tokenizer you use must match the Transformer model type you are using! In this exercise, you will use the 🤗 [DistilBERT fast tokenizer](https://huggingface.co/transformers/model_doc/distilbert.html), which standardizes the length of your sequence to 512 and pads with zeros. Notice this matches the maximum length you used when creating tags. "
   ]
  },
  {
   "cell_type": "markdown",
   "id": "5ea0f747-443a-43bb-8f24-b22b4be353f7",
   "metadata": {},
   "source": [
    "Transformer models are often trained by tokenizers that split words into subwords. For instance, the word 'Africa' might get split into multiple subtokens. This can create some misalignment between the list of tags for the dataset and the list of labels generated by the tokenizer, since the tokenizer can split one word into several, or add special tokens. Before processing, it is important that you align the lists of tags and the list of labels generated by the selected tokenizer with a tokenize_and_align_labels() function."
   ]
  },
  {
   "cell_type": "markdown",
   "id": "11f606d8-37e2-4d8f-8d42-00f97051cbbc",
   "metadata": {},
   "source": [
    "Now, We Implement a function that implements the following: \n",
    "* The tokenizer cuts sequences that exceed the maximum size allowed by your model with the parameter `truncation=True`\n",
    "* Aligns the list of tags and labels with the tokenizer `word_ids` method returns a list that maps the subtokens to the original word in the sentence and special tokens to `None`. \n",
    "* Set the labels of all the special tokens (`None`) to -100 to prevent them from affecting the loss function. \n",
    "* Label of the first subtoken of a word and set the label for the following subtokens to -100. "
   ]
  },
  {
   "cell_type": "code",
   "execution_count": 20,
   "id": "3f320581-b43a-492f-a89e-90ae25527dc8",
   "metadata": {},
   "outputs": [],
   "source": [
    "label_all_tokens = True"
   ]
  },
  {
   "cell_type": "code",
   "execution_count": 21,
   "id": "e8424876-fff8-4bdb-9bba-bb60396d8a0b",
   "metadata": {},
   "outputs": [],
   "source": [
    "def tokenize_and_align_labels(tokenizer, examples, tags):\n",
    "    \"\"\"\n",
    "    Args:\n",
    "        tokenizer: Hugging Face tokenizer instance\n",
    "        examples: List of text examples to tokenize\n",
    "        tags: List of corresponding labels/tags for each example\n",
    "    \"\"\"\n",
    "    \n",
    "    # Tokenize all examples with padding and truncation\n",
    "    # max_length=512 sets maximum sequence length\n",
    "    # is_split_into_words=False means input is raw text, not pre-tokenized\n",
    "    tokenized_inputs = tokenizer(examples, \n",
    "                               truncation=True, \n",
    "                               is_split_into_words=False, \n",
    "                               padding='max_length', \n",
    "                               max_length=512)\n",
    "    \n",
    "    # Initialize list to store aligned labels\n",
    "    labels = []\n",
    "    \n",
    "    for i, label in enumerate(tags):\n",
    "        # Get word IDs for current example (maps tokens to their original words)\n",
    "        word_ids = tokenized_inputs.word_ids(batch_index=i)\n",
    "        \n",
    "        # Track previous word index for detecting word boundaries\n",
    "        previous_word_idx = None\n",
    "        \n",
    "        # Store label IDs for current example\n",
    "        label_ids = []\n",
    "        \n",
    "        # Process each token's word ID\n",
    "        for word_idx in word_ids:\n",
    "            if word_idx is None:\n",
    "                # Special tokens (CLS, SEP, PAD) get label -100 (ignored in loss calculation)\n",
    "                label_ids.append(-100)\n",
    "            elif word_idx != previous_word_idx:\n",
    "                # First token of a word gets the actual label\n",
    "                label_ids.append(label[word_idx])\n",
    "            else:\n",
    "                # Subsequent tokens of same word either get:\n",
    "                # - same label as word (if label_all_tokens=True)\n",
    "                # - -100 to ignore in loss (if label_all_tokens=False)\n",
    "                label_ids.append(label[word_idx] if label_all_tokens else -100)\n",
    "            \n",
    "            # Update previous word index\n",
    "            previous_word_idx = word_idx\n",
    "        \n",
    "        # Add aligned labels for current example to main labels list\n",
    "        labels.append(label_ids)\n",
    "    \n",
    "    # Add labels to tokenized inputs dictionary\n",
    "    tokenized_inputs[\"labels\"] = labels\n",
    "    \n",
    "    return tokenized_inputs"
   ]
  },
  {
   "cell_type": "markdown",
   "id": "1865efd9-6162-40b3-9927-90d629ccbe8f",
   "metadata": {},
   "source": [
    "Now that you have tokenized inputs, you can create train and test datasets."
   ]
  },
  {
   "cell_type": "code",
   "execution_count": 22,
   "id": "da87c3c5-8497-4fbb-8871-44755c7a75c4",
   "metadata": {},
   "outputs": [],
   "source": [
    "tokenizer = DistilBertTokenizerFast.from_pretrained('tokenizer/')"
   ]
  },
  {
   "cell_type": "code",
   "execution_count": 23,
   "id": "0c8c5076-7045-48a3-86c1-7d7f99634d57",
   "metadata": {},
   "outputs": [
    {
     "name": "stderr",
     "output_type": "stream",
     "text": [
      "2024-12-16 14:19:52.745422: I metal_plugin/src/device/metal_device.cc:1154] Metal device set to: Apple M1\n",
      "2024-12-16 14:19:52.745453: I metal_plugin/src/device/metal_device.cc:296] systemMemory: 8.00 GB\n",
      "2024-12-16 14:19:52.745464: I metal_plugin/src/device/metal_device.cc:313] maxCacheSize: 2.67 GB\n",
      "2024-12-16 14:19:52.745698: I tensorflow/core/common_runtime/pluggable_device/pluggable_device_factory.cc:306] Could not identify NUMA node of platform GPU ID 0, defaulting to 0. Your kernel may not have been built with NUMA support.\n",
      "2024-12-16 14:19:52.745825: I tensorflow/core/common_runtime/pluggable_device/pluggable_device_factory.cc:272] Created TensorFlow device (/job:localhost/replica:0/task:0/device:GPU:0 with 0 MB memory) -> physical PluggableDevice (device: 0, name: METAL, pci bus id: <undefined>)\n"
     ]
    }
   ],
   "source": [
    "test = tokenize_and_align_labels(tokenizer, df_data['content'].values.tolist(), tags)\n",
    "train_dataset = tf.data.Dataset.from_tensor_slices((\n",
    "    test['input_ids'], \n",
    "    test['labels']\n",
    "))"
   ]
  },
  {
   "cell_type": "code",
   "execution_count": 24,
   "id": "df9425f3-3798-4ba4-9f5e-f06eccab3256",
   "metadata": {
    "scrolled": true
   },
   "outputs": [
    {
     "data": {
      "text/plain": [
       "<_TakeDataset element_spec=(TensorSpec(shape=(512,), dtype=tf.int32, name=None), TensorSpec(shape=(512,), dtype=tf.int32, name=None))>"
      ]
     },
     "execution_count": 24,
     "metadata": {},
     "output_type": "execute_result"
    }
   ],
   "source": [
    "train_dataset.take(1)"
   ]
  },
  {
   "cell_type": "markdown",
   "id": "db8c377d-81b5-4154-97a8-4765d08b7235",
   "metadata": {},
   "source": [
    "## Training"
   ]
  },
  {
   "cell_type": "markdown",
   "id": "0afc0e0e-13fc-4b2f-962e-87cfbf0a3dda",
   "metadata": {},
   "source": [
    "Now you can finally feed your data into into a pretrained 🤗 model. You will optimize a DistilBERT model, which matches the tokenizer you used to preprocess your data. Try playing around with the different hyperparamters to improve your results!"
   ]
  },
  {
   "cell_type": "code",
   "execution_count": 29,
   "id": "201746ab-fdcc-466d-92c1-ea1d0516b071",
   "metadata": {},
   "outputs": [],
   "source": [
    "from transformers import TFDistilBertForTokenClassification,DistilBertConfig"
   ]
  },
  {
   "cell_type": "code",
   "execution_count": 32,
   "id": "7d6c50e4-8ea6-4029-b9a3-ebb7a1c32a85",
   "metadata": {},
   "outputs": [],
   "source": [
    "# Load the configuration from the local directory\n",
    "config = DistilBertConfig.from_json_file('model/config.json')\n",
    "config.num_labels = len(unique_tags)\n",
    "\n",
    "# Create a new model with this configuration\n",
    "model = TFDistilBertForTokenClassification.from_config(config)"
   ]
  },
  {
   "cell_type": "code",
   "execution_count": 36,
   "id": "61135264-7930-41be-8bfc-3db284cf91df",
   "metadata": {},
   "outputs": [],
   "source": [
    "optimizer = tf.keras.optimizers.legacy.Adam(learning_rate=1e-5)\n",
    "\n",
    "model.compile(optimizer=optimizer, loss=model.hf_compute_loss, metrics=['accuracy'])"
   ]
  },
  {
   "cell_type": "code",
   "execution_count": 37,
   "id": "513751cd-ffd8-4ab6-b3ca-0de5428afbb2",
   "metadata": {},
   "outputs": [
    {
     "name": "stdout",
     "output_type": "stream",
     "text": [
      "Epoch 1/10\n"
     ]
    },
    {
     "name": "stderr",
     "output_type": "stream",
     "text": [
      "2024-12-16 15:00:41.396410: I tensorflow/core/grappler/optimizers/custom_graph_optimizer_registry.cc:117] Plugin optimizer for device_type GPU is enabled.\n"
     ]
    },
    {
     "name": "stdout",
     "output_type": "stream",
     "text": [
      "55/55 [==============================] - 271s 5s/step - loss: 0.7410 - accuracy: 0.7059\n",
      "Epoch 2/10\n",
      "55/55 [==============================] - 153s 3s/step - loss: 0.4603 - accuracy: 0.7553\n",
      "Epoch 3/10\n",
      "55/55 [==============================] - 234s 4s/step - loss: 0.4308 - accuracy: 0.7605\n",
      "Epoch 4/10\n",
      "55/55 [==============================] - 236s 4s/step - loss: 0.4149 - accuracy: 0.7617\n",
      "Epoch 5/10\n",
      "55/55 [==============================] - 96s 2s/step - loss: 0.4040 - accuracy: 0.7622\n",
      "Epoch 6/10\n",
      "55/55 [==============================] - 91s 1s/step - loss: 0.3949 - accuracy: 0.7624\n",
      "Epoch 7/10\n",
      "55/55 [==============================] - 171s 3s/step - loss: 0.3863 - accuracy: 0.7629\n",
      "Epoch 8/10\n",
      "55/55 [==============================] - 268s 5s/step - loss: 0.3777 - accuracy: 0.7633\n",
      "Epoch 9/10\n",
      "55/55 [==============================] - 333s 6s/step - loss: 0.3687 - accuracy: 0.7638\n",
      "Epoch 10/10\n",
      "55/55 [==============================] - 106s 2s/step - loss: 0.3588 - accuracy: 0.7640\n"
     ]
    },
    {
     "data": {
      "text/plain": [
       "<keras.src.callbacks.History at 0x3475ce4f0>"
      ]
     },
     "execution_count": 37,
     "metadata": {},
     "output_type": "execute_result"
    }
   ],
   "source": [
    "model.fit(train_dataset.batch(4), epochs=10, batch_size=4)"
   ]
  },
  {
   "cell_type": "code",
   "execution_count": 38,
   "id": "021b7baa-1aa2-4cf0-8e9c-ae2244b44700",
   "metadata": {},
   "outputs": [],
   "source": [
    "text = \"Manisha Bharti. 3.5 years of professional IT experience in Banking and Finance domain\"\n",
    "\n",
    "inputs = tokenizer(text, \n",
    "                   return_tensors='tf', \n",
    "                   truncation=True,\n",
    "                   is_split_into_words=False, \n",
    "                  padding='max_length', \n",
    "                  max_length=512)\n",
    "\n",
    "input_ids = inputs[\"input_ids\"]"
   ]
  },
  {
   "cell_type": "code",
   "execution_count": 43,
   "id": "0c6b0e9a-756d-433e-b99a-61503966a057",
   "metadata": {
    "scrolled": true
   },
   "outputs": [
    {
     "data": {
      "text/plain": [
       "array([[6, 5, 5, 5, 5, 5, 1, 1, 1, 6, 6, 6, 6, 6, 6, 6, 6, 6, 6, 6, 6, 6,\n",
       "        6, 6, 6, 6, 6, 6, 6, 6, 6, 6, 6, 6, 6, 6, 6, 6, 6, 6, 6, 6, 6, 6,\n",
       "        6, 6, 6, 6, 6, 6, 6, 6, 6, 6, 6, 6, 6, 6, 6, 6, 6, 6, 6, 6, 6, 6,\n",
       "        6, 6, 6, 6, 6, 6, 6, 6, 6, 6, 6, 6, 6, 6, 6, 6, 6, 6, 6, 6, 6, 6,\n",
       "        6, 6, 6, 6, 6, 6, 6, 6, 6, 6, 6, 6, 6, 6, 6, 6, 6, 6, 6, 6, 6, 6,\n",
       "        6, 6, 6, 6, 6, 6, 6, 6, 6, 6, 6, 6, 6, 6, 6, 6, 6, 6, 6, 6, 6, 6,\n",
       "        6, 6, 6, 6, 6, 6, 6, 6, 6, 6, 6, 6, 6, 6, 6, 6, 6, 6, 6, 6, 6, 6,\n",
       "        6, 6, 6, 6, 6, 6, 6, 6, 6, 6, 6, 6, 6, 6, 6, 6, 6, 6, 6, 6, 6, 6,\n",
       "        6, 6, 6, 6, 6, 6, 6, 6, 6, 6, 6, 6, 6, 6, 6, 6, 6, 6, 6, 6, 6, 6,\n",
       "        6, 6, 6, 6, 6, 6, 6, 6, 6, 6, 6, 6, 6, 6, 6, 6, 6, 6, 6, 6, 6, 6,\n",
       "        6, 6, 6, 6, 6, 6, 6, 6, 6, 6, 6, 6, 6, 6, 6, 6, 6, 6, 6, 6, 6, 6,\n",
       "        6, 6, 6, 6, 6, 6, 6, 6, 6, 6, 6, 6, 6, 6, 6, 6, 6, 6, 6, 6, 6, 6,\n",
       "        6, 6, 6, 6, 6, 6, 6, 6, 6, 6, 6, 6, 6, 6, 6, 6, 6, 6, 6, 6, 6, 6,\n",
       "        6, 6, 6, 6, 6, 6, 6, 6, 6, 6, 6, 6, 6, 6, 6, 6, 6, 6, 6, 6, 6, 6,\n",
       "        6, 6, 6, 6, 6, 6, 6, 6, 6, 6, 6, 6, 6, 6, 6, 6, 6, 6, 6, 6, 6, 6,\n",
       "        6, 6, 6, 6, 6, 6, 6, 6, 6, 6, 6, 6, 6, 6, 6, 6, 6, 6, 6, 6, 6, 6,\n",
       "        6, 6, 6, 6, 6, 6, 6, 6, 6, 6, 6, 6, 6, 6, 6, 6, 6, 6, 6, 6, 6, 6,\n",
       "        6, 6, 6, 6, 6, 6, 6, 6, 6, 6, 6, 6, 6, 6, 6, 6, 6, 6, 6, 6, 6, 6,\n",
       "        6, 6, 6, 6, 6, 6, 6, 6, 6, 6, 6, 6, 6, 6, 6, 6, 6, 6, 6, 6, 6, 6,\n",
       "        6, 6, 6, 6, 6, 6, 6, 6, 6, 6, 6, 6, 6, 6, 6, 6, 6, 6, 6, 6, 6, 6,\n",
       "        6, 6, 6, 6, 6, 6, 6, 6, 6, 6, 6, 6, 6, 6, 6, 6, 6, 6, 6, 6, 6, 6,\n",
       "        6, 6, 6, 6, 6, 6, 6, 6, 6, 6, 6, 6, 6, 6, 6, 6, 6, 6, 6, 6, 6, 6,\n",
       "        6, 6, 6, 6, 6, 6, 6, 6, 6, 6, 6, 6, 6, 6, 6, 6, 6, 6, 6, 6, 6, 6,\n",
       "        6, 6, 6, 6, 6, 6]])"
      ]
     },
     "execution_count": 43,
     "metadata": {},
     "output_type": "execute_result"
    }
   ],
   "source": [
    "output = model(inputs).logits\n",
    "\n",
    "prediction = np.argmax(output, axis=2)\n",
    "prediction"
   ]
  },
  {
   "cell_type": "markdown",
   "id": "c2fdc398-eb3d-4b54-811c-246762d8d594",
   "metadata": {},
   "source": [
    "## Predictions "
   ]
  },
  {
   "cell_type": "code",
   "execution_count": 49,
   "id": "0b03455e-424f-47c5-9790-53f74d3910fb",
   "metadata": {
    "scrolled": true
   },
   "outputs": [],
   "source": [
    "true_labels = []\n",
    "for label_list in test['labels']:\n",
    "    labels_for_sequence = [id2tag.get(label_index, \"Empty\") for label_index in label_list]\n",
    "    true_labels.append(labels_for_sequence)"
   ]
  },
  {
   "cell_type": "code",
   "execution_count": 50,
   "id": "a5a1c9eb-7409-4277-85dd-74f0a30c85a1",
   "metadata": {},
   "outputs": [
    {
     "name": "stdout",
     "output_type": "stream",
     "text": [
      "220/220 [==============================] - 23s 93ms/step\n"
     ]
    }
   ],
   "source": [
    "output = model.predict(train_dataset)"
   ]
  },
  {
   "cell_type": "code",
   "execution_count": 51,
   "id": "12bef90b-2688-4662-818e-c8ca861027d8",
   "metadata": {},
   "outputs": [],
   "source": [
    "predictions = np.argmax(output['logits'].reshape(220, -1, 12), axis=-1)"
   ]
  },
  {
   "cell_type": "code",
   "execution_count": 58,
   "id": "8d51cf4f-0a9a-4d6b-9476-f272867c43ab",
   "metadata": {},
   "outputs": [
    {
     "data": {
      "image/png": "[encoded data removed]",
      "text/plain": [
       "<Figure size 640x480 with 1 Axes>"
      ]
     },
     "metadata": {},
     "output_type": "display_data"
    }
   ],
   "source": [
    "plot = plt.hist(np.array(true_labels).flatten())\n",
    "plt.xticks(rotation='vertical')\n",
    "plt.title('Original Labels')\n",
    "plt.show()"
   ]
  },
  {
   "cell_type": "code",
   "execution_count": 57,
   "id": "5de4ca5c-2ed3-4024-a492-3b0df0aefc68",
   "metadata": {},
   "outputs": [
    {
     "data": {
      "text/plain": [
       "Counter({'Empty': 103155,\n",
       "         'Skills': 4704,\n",
       "         'Designation': 1100,\n",
       "         'Name': 1035,\n",
       "         'Companies worked at': 908,\n",
       "         'College Name': 792,\n",
       "         'Degree': 598,\n",
       "         'Location': 116,\n",
       "         'Graduation Year': 80,\n",
       "         'Email Address': 76,\n",
       "         'Years of Experience': 75,\n",
       "         'UNKNOWN': 1})"
      ]
     },
     "execution_count": 57,
     "metadata": {},
     "output_type": "execute_result"
    }
   ],
   "source": [
    "from collections import Counter\n",
    "\n",
    "Counter(np.array(true_labels).flatten())"
   ]
  },
  {
   "cell_type": "code",
   "execution_count": 59,
   "id": "a8673fcd-67ab-42a7-8852-fa69aa279e56",
   "metadata": {},
   "outputs": [],
   "source": [
    "pred_labels = []"
   ]
  },
  {
   "cell_type": "code",
   "execution_count": 64,
   "id": "5997cedb-11df-4c2a-b203-db90496a95f7",
   "metadata": {},
   "outputs": [],
   "source": [
    "for i in range(len(predictions)):\n",
    "    labels_for_sequence = [id2tag.get(index, \"Empty\") for index in predictions[i]]\n",
    "    pred_labels.append(labels_for_sequence)"
   ]
  },
  {
   "cell_type": "code",
   "execution_count": 65,
   "id": "0773c9b5-5c0a-4dc4-a436-2d9eb6a28141",
   "metadata": {},
   "outputs": [
    {
     "data": {
      "image/png": "[encoded data removed]",
      "text/plain": [
       "<Figure size 640x480 with 1 Axes>"
      ]
     },
     "metadata": {},
     "output_type": "display_data"
    }
   ],
   "source": [
    "p = plt.hist(np.array(pred_labels).flatten())\n",
    "plt.xticks(rotation='vertical')\n",
    "plt.show()"
   ]
  }
 ],
 "metadata": {
  "kernelspec": {
   "display_name": "transformers",
   "language": "python",
   "name": "transformers"
  },
  "language_info": {
   "codemirror_mode": {
    "name": "ipython",
    "version": 3
   },
   "file_extension": ".py",
   "mimetype": "text/x-python",
   "name": "python",
   "nbconvert_exporter": "python",
   "pygments_lexer": "ipython3",
   "version": "3.9.21"
  }
 },
 "nbformat": 4,
 "nbformat_minor": 5
}
